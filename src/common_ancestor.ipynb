{
 "cells": [
  {
   "cell_type": "code",
   "execution_count": 1,
   "metadata": {
    "collapsed": true
   },
   "outputs": [],
   "source": [
    "import requests\n",
    "import json\n",
    "import os\n",
    "from networkx.readwrite import json_graph\n"
   ]
  },
  {
   "cell_type": "code",
   "execution_count": 2,
   "metadata": {},
   "outputs": [],
   "source": [
    "def load_vocab_file(vocab_file):\n",
    "    with open(vocab_file) as vocab:\n",
    "        word_list = vocab.read().split('\\n')\n",
    "    return word_list\n"
   ]
  },
  {
   "cell_type": "code",
   "execution_count": 3,
   "metadata": {},
   "outputs": [],
   "source": [
    "def get_4lang_for_word(word):\n",
    "    headers = {'Content-type': 'application/json', 'Accept': 'text/plain'}\n",
    "    return requests.post(\"http://hlt.bme.hu/4lang/definition\", data=json.dumps({'word': word}), headers=headers).json()\n"
   ]
  },
  {
   "cell_type": "code",
   "execution_count": 18,
   "metadata": {
    "collapsed": false
   },
   "outputs": [],
   "source": [
    "def get_parents(word, parent_dict):\n",
    "    graph = get_4lang_for_word(word)\n",
    "    parent_dict[word] = {}\n",
    "    parent_dict[word][\"first\"] = []\n",
    "    parent_dict[word][\"second\"] = []\n",
    "    parent_dict[word][\"third\"] = []\n",
    "    for edges in json_graph.adjacency.adjacency_graph(graph[\"word\"]).edges(data=True):\n",
    "        if edges[0].split('_')[0].lower() == word.lower() and edges[2]['color'] == 0:\n",
    "            parent = edges[1].split('_')[0]\n",
    "            parent_dict[word][\"first\"].append(parent)\n",
    "            if parent not in parent_dict:\n",
    "                get_parents(parent, parent_dict)\n",
    "            parent_dict[word][\"second\"] += parent_dict[parent]['first']\n",
    "            parent_dict[word][\"third\"] += parent_dict[parent]['second']\n",
    "    parent_dict[word][\"first\"] = list(set(parent_dict[word][\"first\"]))\n",
    "    parent_dict[word][\"second\"] = list(set(parent_dict[word][\"second\"]))\n",
    "    parent_dict[word][\"third\"] = list(set(parent_dict[word][\"third\"]))\n"
   ]
  },
  {
   "cell_type": "code",
   "execution_count": 5,
   "metadata": {},
   "outputs": [],
   "source": [
    "def export_parent_json(parent_json_file, parent_dict):\n",
    "    with open(parent_json_file, 'w') as parent_file:\n",
    "        parent_file.write(json.dumps(parent_dict))\n"
   ]
  },
  {
   "cell_type": "code",
   "execution_count": 48,
   "metadata": {
    "collapsed": false
   },
   "outputs": [
    {
     "data": {
      "text/plain": [
       "''"
      ]
     },
     "execution_count": 48,
     "metadata": {},
     "output_type": "execute_result"
    }
   ],
   "source": [
    "vocab_file = \"./data/vocab\"\n",
    "if os.path.exists(vocab_file):\n",
    "    vocab = load_vocab_file(vocab_file)\n",
    "    parents = {}\n",
    "    \n",
    "    for word in vocab:\n",
    "        print(word)\n",
    "        if word not in parents:\n",
    "            get_parents(word, parents)\n",
    "    export_parent_json(\"./data/parents.json\", parents)\n",
    "else:\n",
    "    raise FileNotFoundError('Check the path')\n"
   ]
  },
  {
   "cell_type": "code",
   "execution_count": 35,
   "metadata": {},
   "outputs": [],
   "source": [
    "tier_dict = {\n",
    "    \"first\": 1,\n",
    "    \"second\": 10,\n",
    "    \"third\": 100\n",
    "}\n"
   ]
  },
  {
   "cell_type": "code",
   "execution_count": 44,
   "metadata": {},
   "outputs": [],
   "source": [
    "def find_ancestors(word1, word2, parend_dict, freq):\n",
    "    word1_parents = parend_dict[word1]\n",
    "    word2_parents = parend_dict[word2]\n",
    "    common_ancestors = {}\n",
    "    for tier1 in word1_parents:\n",
    "        if word2 in word1_parents[tier1]:\n",
    "            common_ancestors[word2] = 0  # tier_dict[tier1]\n",
    "        if word1 in word2_parents[tier1]:\n",
    "            common_ancestors[word1] = 0  # tier_dict[tier1]\n",
    "        for tier2 in word2_parents:\n",
    "            intersection = list(set(word1_parents[tier1]) & set(word2_parents[tier2]))\n",
    "            for i in intersection:\n",
    "                common_ancestors[i] = tier_dict[tier1] * tier_dict[tier2] * freq[i]\n",
    "    return common_ancestors\n"
   ]
  },
  {
   "cell_type": "code",
   "execution_count": 37,
   "metadata": {},
   "outputs": [],
   "source": [
    "def frequency(parent_dict):\n",
    "    freq = {}\n",
    "    for element in parent_dict:\n",
    "        for tier in parent_dict[element]:\n",
    "            for parent in parent_dict[element][tier]:\n",
    "                if parent in freq:\n",
    "                    freq[parent] += 1\n",
    "                else:\n",
    "                    freq[parent] = 1\n",
    "    return freq\n"
   ]
  },
  {
   "cell_type": "code",
   "execution_count": 45,
   "metadata": {},
   "outputs": [
    {
     "name": "stdout",
     "output_type": "stream",
     "text": [
      "{'AT': 377800, 'animal': 26400, 'HAS': 8221000, '=PAT': 3253000, 'move': 6520000, 'live': 3260000, 'singular': 39640000, 'third': 35530000}\n"
     ]
    },
    {
     "data": {
      "text/plain": [
       "'animal'"
      ]
     },
     "execution_count": 45,
     "metadata": {},
     "output_type": "execute_result"
    }
   ],
   "source": [
    "parents = json.loads(open(\"./data/parents.json\").read())\n",
    "frequency_dict = frequency(parents)\n",
    "ancestor_dict = find_ancestors(\"cat\", \"dog\", parents, frequency_dict)\n",
    "print(ancestor_dict)\n",
    "min(ancestor_dict, key=ancestor_dict.get)\n"
   ]
  },
  {
   "cell_type": "code",
   "execution_count": null,
   "metadata": {},
   "outputs": [],
   "source": [
    "\n"
   ]
  }
 ],
 "metadata": {
  "kernelspec": {
   "display_name": "Python 2",
   "language": "python",
   "name": "python2"
  },
  "language_info": {
   "codemirror_mode": {
    "name": "ipython",
    "version": 2
   },
   "file_extension": ".py",
   "mimetype": "text/x-python",
   "name": "python",
   "nbconvert_exporter": "python",
   "pygments_lexer": "ipython2",
   "version": "2.7.6"
  }
 },
 "nbformat": 4,
 "nbformat_minor": 0
}
